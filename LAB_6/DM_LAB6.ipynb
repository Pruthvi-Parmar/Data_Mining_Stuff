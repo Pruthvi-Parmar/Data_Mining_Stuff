{
  "nbformat": 4,
  "nbformat_minor": 0,
  "metadata": {
    "colab": {
      "provenance": [],
      "authorship_tag": "ABX9TyPkbNuYOm7VdSx7T3/4pmZr",
      "include_colab_link": true
    },
    "kernelspec": {
      "name": "python3",
      "display_name": "Python 3"
    },
    "language_info": {
      "name": "python"
    }
  },
  "cells": [
    {
      "cell_type": "markdown",
      "metadata": {
        "id": "view-in-github",
        "colab_type": "text"
      },
      "source": [
        "<a href=\"https://colab.research.google.com/github/Pruthvi-Parmar/Data_Mining_Stuff/blob/main/LAB_6/DM_LAB6.ipynb\" target=\"_parent\"><img src=\"https://colab.research.google.com/assets/colab-badge.svg\" alt=\"Open In Colab\"/></a>"
      ]
    },
    {
      "cell_type": "code",
      "execution_count": null,
      "metadata": {
        "colab": {
          "base_uri": "https://localhost:8080/"
        },
        "id": "UH804nfo6UQb",
        "outputId": "b40703a5-b7ad-4773-c3d7-b945085f1acd"
      },
      "outputs": [
        {
          "output_type": "stream",
          "name": "stdout",
          "text": [
            "Requirement already satisfied: mlxtend in /usr/local/lib/python3.11/dist-packages (0.23.3)\n",
            "Requirement already satisfied: scipy>=1.2.1 in /usr/local/lib/python3.11/dist-packages (from mlxtend) (1.13.1)\n",
            "Requirement already satisfied: numpy>=1.16.2 in /usr/local/lib/python3.11/dist-packages (from mlxtend) (1.26.4)\n",
            "Requirement already satisfied: pandas>=0.24.2 in /usr/local/lib/python3.11/dist-packages (from mlxtend) (2.2.2)\n",
            "Requirement already satisfied: scikit-learn>=1.3.1 in /usr/local/lib/python3.11/dist-packages (from mlxtend) (1.6.0)\n",
            "Requirement already satisfied: matplotlib>=3.0.0 in /usr/local/lib/python3.11/dist-packages (from mlxtend) (3.10.0)\n",
            "Requirement already satisfied: joblib>=0.13.2 in /usr/local/lib/python3.11/dist-packages (from mlxtend) (1.4.2)\n",
            "Requirement already satisfied: contourpy>=1.0.1 in /usr/local/lib/python3.11/dist-packages (from matplotlib>=3.0.0->mlxtend) (1.3.1)\n",
            "Requirement already satisfied: cycler>=0.10 in /usr/local/lib/python3.11/dist-packages (from matplotlib>=3.0.0->mlxtend) (0.12.1)\n",
            "Requirement already satisfied: fonttools>=4.22.0 in /usr/local/lib/python3.11/dist-packages (from matplotlib>=3.0.0->mlxtend) (4.55.3)\n",
            "Requirement already satisfied: kiwisolver>=1.3.1 in /usr/local/lib/python3.11/dist-packages (from matplotlib>=3.0.0->mlxtend) (1.4.8)\n",
            "Requirement already satisfied: packaging>=20.0 in /usr/local/lib/python3.11/dist-packages (from matplotlib>=3.0.0->mlxtend) (24.2)\n",
            "Requirement already satisfied: pillow>=8 in /usr/local/lib/python3.11/dist-packages (from matplotlib>=3.0.0->mlxtend) (11.1.0)\n",
            "Requirement already satisfied: pyparsing>=2.3.1 in /usr/local/lib/python3.11/dist-packages (from matplotlib>=3.0.0->mlxtend) (3.2.1)\n",
            "Requirement already satisfied: python-dateutil>=2.7 in /usr/local/lib/python3.11/dist-packages (from matplotlib>=3.0.0->mlxtend) (2.8.2)\n",
            "Requirement already satisfied: pytz>=2020.1 in /usr/local/lib/python3.11/dist-packages (from pandas>=0.24.2->mlxtend) (2024.2)\n",
            "Requirement already satisfied: tzdata>=2022.7 in /usr/local/lib/python3.11/dist-packages (from pandas>=0.24.2->mlxtend) (2024.2)\n",
            "Requirement already satisfied: threadpoolctl>=3.1.0 in /usr/local/lib/python3.11/dist-packages (from scikit-learn>=1.3.1->mlxtend) (3.5.0)\n",
            "Requirement already satisfied: six>=1.5 in /usr/local/lib/python3.11/dist-packages (from python-dateutil>=2.7->matplotlib>=3.0.0->mlxtend) (1.17.0)\n"
          ]
        }
      ],
      "source": [
        "!pip install mlxtend\n"
      ]
    },
    {
      "cell_type": "code",
      "source": [
        "import mlxtend"
      ],
      "metadata": {
        "id": "SRuj-WpW72Sd"
      },
      "execution_count": null,
      "outputs": []
    },
    {
      "cell_type": "code",
      "source": [
        "from mlxtend.preprocessing import TransactionEncoder\n",
        "from mlxtend.frequent_patterns import apriori, association_rules"
      ],
      "metadata": {
        "id": "VXkWwBKl8BSE"
      },
      "execution_count": null,
      "outputs": []
    },
    {
      "cell_type": "code",
      "source": [
        "import pandas as pd\n",
        "import numpy as np"
      ],
      "metadata": {
        "colab": {
          "base_uri": "https://localhost:8080/"
        },
        "id": "Mi6KCNJM8YFD",
        "outputId": "d19a375f-17b6-4b84-860f-3d663b216b7c"
      },
      "execution_count": null,
      "outputs": [
        {
          "output_type": "stream",
          "name": "stderr",
          "text": [
            "/usr/local/lib/python3.11/dist-packages/ipykernel/ipkernel.py:283: DeprecationWarning: `should_run_async` will not call `transform_cell` automatically in the future. Please pass the result to `transformed_cell` argument and any exception that happen during thetransform in `preprocessing_exc_tuple` in IPython 7.17 and above.\n",
            "  and should_run_async(code)\n"
          ]
        }
      ]
    },
    {
      "cell_type": "code",
      "source": [
        "data = [['A','B','C','D'],['B','C','D'],['A','C','D','B'],['A','B','D']]"
      ],
      "metadata": {
        "colab": {
          "base_uri": "https://localhost:8080/"
        },
        "id": "B6QEFrX28aVr",
        "outputId": "49d931a0-4dea-4a6f-bb3d-09cce9b3e735"
      },
      "execution_count": null,
      "outputs": [
        {
          "output_type": "stream",
          "name": "stderr",
          "text": [
            "/usr/local/lib/python3.11/dist-packages/ipykernel/ipkernel.py:283: DeprecationWarning: `should_run_async` will not call `transform_cell` automatically in the future. Please pass the result to `transformed_cell` argument and any exception that happen during thetransform in `preprocessing_exc_tuple` in IPython 7.17 and above.\n",
            "  and should_run_async(code)\n"
          ]
        }
      ]
    },
    {
      "cell_type": "code",
      "source": [
        "t = TransactionEncoder()\n",
        "t_data = t.fit_transform(data)\n",
        "print(t_data)"
      ],
      "metadata": {
        "colab": {
          "base_uri": "https://localhost:8080/"
        },
        "id": "_q3mOER49G3l",
        "outputId": "489f3f96-fcaf-49fb-8039-3f2765d49f75"
      },
      "execution_count": null,
      "outputs": [
        {
          "output_type": "stream",
          "name": "stdout",
          "text": [
            "[[ True  True  True  True]\n",
            " [False  True  True  True]\n",
            " [ True  True  True  True]\n",
            " [ True  True False  True]]\n"
          ]
        },
        {
          "output_type": "stream",
          "name": "stderr",
          "text": [
            "/usr/local/lib/python3.11/dist-packages/ipykernel/ipkernel.py:283: DeprecationWarning: `should_run_async` will not call `transform_cell` automatically in the future. Please pass the result to `transformed_cell` argument and any exception that happen during thetransform in `preprocessing_exc_tuple` in IPython 7.17 and above.\n",
            "  and should_run_async(code)\n"
          ]
        }
      ]
    },
    {
      "cell_type": "code",
      "source": [
        "df = pd.DataFrame(t_data, columns=t.columns_)\n",
        "print(df)"
      ],
      "metadata": {
        "colab": {
          "base_uri": "https://localhost:8080/"
        },
        "id": "lZCeI8rV9Y8K",
        "outputId": "7bafd18d-c7be-4971-9057-b76fb5524b95"
      },
      "execution_count": null,
      "outputs": [
        {
          "output_type": "stream",
          "name": "stdout",
          "text": [
            "       A     B      C     D\n",
            "0   True  True   True  True\n",
            "1  False  True   True  True\n",
            "2   True  True   True  True\n",
            "3   True  True  False  True\n"
          ]
        },
        {
          "output_type": "stream",
          "name": "stderr",
          "text": [
            "/usr/local/lib/python3.11/dist-packages/ipykernel/ipkernel.py:283: DeprecationWarning: `should_run_async` will not call `transform_cell` automatically in the future. Please pass the result to `transformed_cell` argument and any exception that happen during thetransform in `preprocessing_exc_tuple` in IPython 7.17 and above.\n",
            "  and should_run_async(code)\n"
          ]
        }
      ]
    },
    {
      "cell_type": "code",
      "source": [
        "f_items = apriori(df, min_support=0.6, use_colnames=True)\n",
        "print(f_items)"
      ],
      "metadata": {
        "colab": {
          "base_uri": "https://localhost:8080/"
        },
        "id": "YIkvZwYY_Opa",
        "outputId": "259b8b96-0f86-4837-fcf6-c36ef95d9b9e"
      },
      "execution_count": null,
      "outputs": [
        {
          "output_type": "stream",
          "name": "stdout",
          "text": [
            "    support   itemsets\n",
            "0      0.75        (A)\n",
            "1      1.00        (B)\n",
            "2      0.75        (C)\n",
            "3      1.00        (D)\n",
            "4      0.75     (B, A)\n",
            "5      0.75     (D, A)\n",
            "6      0.75     (B, C)\n",
            "7      1.00     (B, D)\n",
            "8      0.75     (D, C)\n",
            "9      0.75  (B, A, D)\n",
            "10     0.75  (B, D, C)\n"
          ]
        },
        {
          "output_type": "stream",
          "name": "stderr",
          "text": [
            "/usr/local/lib/python3.11/dist-packages/ipykernel/ipkernel.py:283: DeprecationWarning: `should_run_async` will not call `transform_cell` automatically in the future. Please pass the result to `transformed_cell` argument and any exception that happen during thetransform in `preprocessing_exc_tuple` in IPython 7.17 and above.\n",
            "  and should_run_async(code)\n"
          ]
        }
      ]
    },
    {
      "cell_type": "code",
      "source": [
        "rules = association_rules(f_items, metric='confidence', min_threshold=0.8 , num_itemsets = 3)\n",
        "print(rules)\n"
      ],
      "metadata": {
        "colab": {
          "base_uri": "https://localhost:8080/"
        },
        "id": "57CjtNoo_njx",
        "outputId": "f4d2c095-c3c5-484a-d884-f3572ff9e2a9"
      },
      "execution_count": null,
      "outputs": [
        {
          "output_type": "stream",
          "name": "stdout",
          "text": [
            "   antecedents consequents  antecedent support  ...  jaccard  certainty  kulczynski\n",
            "0          (A)         (B)                0.75  ...     0.75        0.0       0.875\n",
            "1          (A)         (D)                0.75  ...     0.75        0.0       0.875\n",
            "2          (C)         (B)                0.75  ...     0.75        0.0       0.875\n",
            "3          (B)         (D)                1.00  ...     1.00        0.0       1.000\n",
            "4          (D)         (B)                1.00  ...     1.00        0.0       1.000\n",
            "5          (C)         (D)                0.75  ...     0.75        0.0       0.875\n",
            "6       (B, A)         (D)                0.75  ...     0.75        0.0       0.875\n",
            "7       (D, A)         (B)                0.75  ...     0.75        0.0       0.875\n",
            "8          (A)      (B, D)                0.75  ...     0.75        0.0       0.875\n",
            "9       (B, C)         (D)                0.75  ...     0.75        0.0       0.875\n",
            "10      (D, C)         (B)                0.75  ...     0.75        0.0       0.875\n",
            "11         (C)      (B, D)                0.75  ...     0.75        0.0       0.875\n",
            "\n",
            "[12 rows x 14 columns]\n"
          ]
        },
        {
          "output_type": "stream",
          "name": "stderr",
          "text": [
            "/usr/local/lib/python3.11/dist-packages/ipykernel/ipkernel.py:283: DeprecationWarning: `should_run_async` will not call `transform_cell` automatically in the future. Please pass the result to `transformed_cell` argument and any exception that happen during thetransform in `preprocessing_exc_tuple` in IPython 7.17 and above.\n",
            "  and should_run_async(code)\n",
            "/usr/local/lib/python3.11/dist-packages/mlxtend/frequent_patterns/association_rules.py:182: RuntimeWarning: invalid value encountered in divide\n",
            "  cert_metric = np.where(certainty_denom == 0, 0, certainty_num / certainty_denom)\n"
          ]
        }
      ]
    },
    {
      "cell_type": "code",
      "source": [
        "print(rules)"
      ],
      "metadata": {
        "colab": {
          "base_uri": "https://localhost:8080/"
        },
        "id": "znoD-DwfANAw",
        "outputId": "89929cac-98e7-4cd7-9cdd-c31b7bfbe7c0"
      },
      "execution_count": null,
      "outputs": [
        {
          "output_type": "stream",
          "name": "stdout",
          "text": [
            "   antecedents consequents  antecedent support  ...  jaccard  certainty  kulczynski\n",
            "0          (A)         (B)                0.75  ...     0.75        0.0       0.875\n",
            "1          (A)         (D)                0.75  ...     0.75        0.0       0.875\n",
            "2          (C)         (B)                0.75  ...     0.75        0.0       0.875\n",
            "3          (B)         (D)                1.00  ...     1.00        0.0       1.000\n",
            "4          (D)         (B)                1.00  ...     1.00        0.0       1.000\n",
            "5          (C)         (D)                0.75  ...     0.75        0.0       0.875\n",
            "6       (B, A)         (D)                0.75  ...     0.75        0.0       0.875\n",
            "7       (D, A)         (B)                0.75  ...     0.75        0.0       0.875\n",
            "8          (A)      (B, D)                0.75  ...     0.75        0.0       0.875\n",
            "9       (B, C)         (D)                0.75  ...     0.75        0.0       0.875\n",
            "10      (D, C)         (B)                0.75  ...     0.75        0.0       0.875\n",
            "11         (C)      (B, D)                0.75  ...     0.75        0.0       0.875\n",
            "\n",
            "[12 rows x 14 columns]\n"
          ]
        },
        {
          "output_type": "stream",
          "name": "stderr",
          "text": [
            "/usr/local/lib/python3.11/dist-packages/ipykernel/ipkernel.py:283: DeprecationWarning: `should_run_async` will not call `transform_cell` automatically in the future. Please pass the result to `transformed_cell` argument and any exception that happen during thetransform in `preprocessing_exc_tuple` in IPython 7.17 and above.\n",
            "  and should_run_async(code)\n"
          ]
        }
      ]
    },
    {
      "cell_type": "code",
      "source": [
        "print(rules[['antecedents','consequents','support','confidence']])"
      ],
      "metadata": {
        "colab": {
          "base_uri": "https://localhost:8080/"
        },
        "id": "VFrjYNuxBAho",
        "outputId": "bbd839f5-ad26-432a-928d-6f82e3f921dd"
      },
      "execution_count": null,
      "outputs": [
        {
          "output_type": "stream",
          "name": "stdout",
          "text": [
            "   antecedents consequents  support  confidence\n",
            "0          (A)         (B)     0.75         1.0\n",
            "1          (A)         (D)     0.75         1.0\n",
            "2          (C)         (B)     0.75         1.0\n",
            "3          (B)         (D)     1.00         1.0\n",
            "4          (D)         (B)     1.00         1.0\n",
            "5          (C)         (D)     0.75         1.0\n",
            "6       (B, A)         (D)     0.75         1.0\n",
            "7       (D, A)         (B)     0.75         1.0\n",
            "8          (A)      (B, D)     0.75         1.0\n",
            "9       (B, C)         (D)     0.75         1.0\n",
            "10      (D, C)         (B)     0.75         1.0\n",
            "11         (C)      (B, D)     0.75         1.0\n"
          ]
        },
        {
          "output_type": "stream",
          "name": "stderr",
          "text": [
            "/usr/local/lib/python3.11/dist-packages/ipykernel/ipkernel.py:283: DeprecationWarning: `should_run_async` will not call `transform_cell` automatically in the future. Please pass the result to `transformed_cell` argument and any exception that happen during thetransform in `preprocessing_exc_tuple` in IPython 7.17 and above.\n",
            "  and should_run_async(code)\n"
          ]
        }
      ]
    },
    {
      "cell_type": "code",
      "source": [
        "data1 = [['A','B','E'],['B','D'],['B','C'],['A','B','D'],['A','c'],['B','c'],['A','C'],['A','B','C','E'],['A','B','c']]\n",
        "t = TransactionEncoder()\n",
        "t_data = t.fit_transform(data1)\n",
        "##print(t_data)\n",
        "df = pd.DataFrame(t_data, columns=t.columns_)\n",
        "#print(df)\n",
        "f_items = apriori(df, min_support=0.22, use_colnames=True)\n",
        "#print(f_items)\n",
        "rules = association_rules(f_items, metric='confidence', min_threshold=0.6 , num_itemsets = 3)\n",
        "#print(rules)\n",
        "print(rules[['antecedents','consequents','support','confidence']])"
      ],
      "metadata": {
        "colab": {
          "base_uri": "https://localhost:8080/"
        },
        "id": "JZVbr5yFBSR3",
        "outputId": "ec079591-c16f-46bb-d6e5-aaeb5fb41ace"
      },
      "execution_count": null,
      "outputs": [
        {
          "output_type": "stream",
          "name": "stdout",
          "text": [
            "   antecedents consequents   support  confidence\n",
            "0          (A)         (B)  0.444444    0.666667\n",
            "1          (C)         (A)  0.222222    0.666667\n",
            "2          (E)         (A)  0.222222    1.000000\n",
            "3          (c)         (A)  0.222222    0.666667\n",
            "4          (C)         (B)  0.222222    0.666667\n",
            "5          (D)         (B)  0.222222    1.000000\n",
            "6          (E)         (B)  0.222222    1.000000\n",
            "7          (c)         (B)  0.222222    0.666667\n",
            "8       (B, E)         (A)  0.222222    1.000000\n",
            "9       (A, E)         (B)  0.222222    1.000000\n",
            "10         (E)      (B, A)  0.222222    1.000000\n"
          ]
        },
        {
          "output_type": "stream",
          "name": "stderr",
          "text": [
            "/usr/local/lib/python3.11/dist-packages/ipykernel/ipkernel.py:283: DeprecationWarning: `should_run_async` will not call `transform_cell` automatically in the future. Please pass the result to `transformed_cell` argument and any exception that happen during thetransform in `preprocessing_exc_tuple` in IPython 7.17 and above.\n",
            "  and should_run_async(code)\n"
          ]
        }
      ]
    },
    {
      "cell_type": "code",
      "source": [],
      "metadata": {
        "id": "6m-KYTdRCpqm"
      },
      "execution_count": null,
      "outputs": []
    }
  ]
}